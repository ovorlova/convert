{
 "cells": [
  {
   "cell_type": "code",
   "execution_count": 7,
   "metadata": {},
   "outputs": [],
   "source": [
    "import json\n",
    "import numpy\n",
    "from sklearn.model_selection import train_test_split"
   ]
  },
  {
   "cell_type": "code",
   "execution_count": 8,
   "metadata": {},
   "outputs": [],
   "source": [
    "train, test = train_test_split(numpy.arange(17503), test_size=0.1)"
   ]
  },
  {
   "cell_type": "code",
   "execution_count": 9,
   "metadata": {},
   "outputs": [],
   "source": [
    "test.sort()"
   ]
  },
  {
   "cell_type": "code",
   "execution_count": 10,
   "metadata": {},
   "outputs": [
    {
     "data": {
      "text/plain": [
       "array([    3,     4,    12, ..., 17474, 17492, 17496])"
      ]
     },
     "execution_count": 10,
     "metadata": {},
     "output_type": "execute_result"
    }
   ],
   "source": [
    "test"
   ]
  },
  {
   "cell_type": "code",
   "execution_count": 11,
   "metadata": {},
   "outputs": [],
   "source": [
    "train.sort()"
   ]
  },
  {
   "cell_type": "code",
   "execution_count": 12,
   "metadata": {},
   "outputs": [],
   "source": [
    "dct = {}\n",
    "lst = []\n",
    "for x in test:\n",
    "    dct[x] = 0\n",
    "for x in train:\n",
    "    dct[x] = 1\n",
    "for x in sorted(dct):\n",
    "    lst.append(dct[x])"
   ]
  },
  {
   "cell_type": "code",
   "execution_count": 41,
   "metadata": {},
   "outputs": [
    {
     "data": {
      "text/plain": [
       "17503"
      ]
     },
     "execution_count": 41,
     "metadata": {},
     "output_type": "execute_result"
    }
   ],
   "source": [
    "len(lst)"
   ]
  },
  {
   "cell_type": "code",
   "execution_count": 42,
   "metadata": {},
   "outputs": [],
   "source": [
    "fopen = open('train_test_split.txt', 'w')\n",
    "print(lst, file=fopen)"
   ]
  },
  {
   "cell_type": "code",
   "execution_count": 19,
   "metadata": {},
   "outputs": [],
   "source": [
    "from scipy.io import loadmat, savemat\n",
    "from PIL import Image\n",
    "import os\n",
    "import os.path as osp\n",
    "import numpy as np\n",
    "import json"
   ]
  },
  {
   "cell_type": "code",
   "execution_count": 45,
   "metadata": {},
   "outputs": [],
   "source": [
    "def check_empty(list,name):\n",
    "    \n",
    "    try:\n",
    "        list[name]\n",
    "    except ValueError:\n",
    "        return True\n",
    "\n",
    "    if len(list[name]) > 0:\n",
    "        return False\n",
    "    else:\n",
    "        return True\n",
    "\n",
    "\n",
    "db_type = 'train' # train, test\n",
    "annot_file = loadmat('mpii_human_pose_v1_u12_1')['RELEASE']\n",
    "save_path = 'val.json'\n",
    "\n",
    "joint_num = 16\n",
    "img_num = len(annot_file['annolist'][0][0][0])\n",
    "\n",
    "aid = 0\n",
    "counter = -1\n",
    "coco = {'images': [], 'categories': [], 'annotations': []}\n",
    "for img_id in range(img_num):\n",
    "   # print(img_id)\n",
    "    \n",
    "    if (annot_file['img_train'][0][0][0][img_id] == 0):\n",
    "        continue\n",
    "    \n",
    "    \n",
    "    \n",
    "    if ((db_type == 'train' and annot_file['img_train'][0][0][0][img_id] == 1) ) and \\\n",
    "        check_empty(annot_file['annolist'][0][0][0][img_id],'annorect') == False: #any person is annotated\n",
    "        counter+=1\n",
    "        if (lst[counter] == 1): # if val(0)\n",
    "            continue\n",
    "    \n",
    "        filename = 'images/' + str(annot_file['annolist'][0][0][0][img_id]['image'][0][0][0][0]) #filename\n",
    "        img = Image.open(filename)\n",
    "        w,h = img.size\n",
    "        img_dict = {'id': img_id, 'file_name': filename, 'width': w, 'height': h}\n",
    "        coco['images'].append(img_dict)\n",
    "\n",
    "        if db_type == 'test':\n",
    "            continue\n",
    "        \n",
    "        person_num = len(annot_file['annolist'][0][0][0][img_id]['annorect'][0]) #person_num\n",
    "        joint_annotated = np.zeros((person_num,joint_num))\n",
    "        for pid in range(person_num):\n",
    "            \n",
    "            if check_empty(annot_file['annolist'][0][0][0][img_id]['annorect'][0][pid],'annopoints') == False: #kps is annotated\n",
    "                \n",
    "                bbox = np.zeros((4)) # xmin, ymin, w, h\n",
    "                kps = np.zeros((joint_num,3)) # xcoord, ycoord, vis\n",
    "\n",
    "                #kps\n",
    "                annot_joint_num = len(annot_file['annolist'][0][0][0][img_id]['annorect'][0][pid]['annopoints']['point'][0][0][0])\n",
    "                for jid in range(annot_joint_num):\n",
    "                    annot_jid = annot_file['annolist'][0][0][0][img_id]['annorect'][0][pid]['annopoints']['point'][0][0][0][jid]['id'][0][0]\n",
    "                    kps[annot_jid][0] = annot_file['annolist'][0][0][0][img_id]['annorect'][0][pid]['annopoints']['point'][0][0][0][jid]['x'][0][0]\n",
    "                    kps[annot_jid][1] = annot_file['annolist'][0][0][0][img_id]['annorect'][0][pid]['annopoints']['point'][0][0][0][jid]['y'][0][0]\n",
    "                    kps[annot_jid][2] = 2\n",
    "                \n",
    "                \n",
    "                \n",
    "                keypoint_list = kps.reshape(-1).tolist()\n",
    "                xmax = 0\n",
    "                ymax = 0\n",
    "                xmin = 10000\n",
    "                ymin = 10000\n",
    "                for i in range(16):\n",
    "                    if (keypoint_list[i*3] < 0 or keypoint_list[i*3+1] < 0 or keypoint_list[i*3] > w or keypoint_list[i*3+1] > h):\n",
    "                        keypoint_list[i*3]=0\n",
    "                        keypoint_list[i*3+1]=0\n",
    "                        keypoint_list[i*3+2]=0\n",
    "                    else:\n",
    "                        if (keypoint_list[i*3] > xmax):\n",
    "                            xmax = keypoint_list[i*3] \n",
    "                        if (keypoint_list[i*3] < xmin):\n",
    "                            xmin = keypoint_list[i*3] \n",
    "                        if (keypoint_list[i*3+1] > ymax):\n",
    "                            ymax = keypoint_list[i*3+1] \n",
    "                        if (keypoint_list[i*3+1] < ymin):\n",
    "                            ymin = keypoint_list[i*3+1] \n",
    "                \n",
    "                width = xmax - xmin\n",
    "                height = ymax - ymin\n",
    "                # corrupted bounding box\n",
    "                if width <= 0 or height <= 0:\n",
    "                    continue\n",
    "                # 20% extend    \n",
    "                else:\n",
    "                    bbox[0] = max(0, xmin)\n",
    "                    bbox[1] = max(0, ymin)\n",
    "                    bbox[2] = width\n",
    "                    bbox[3] = height\n",
    "  \n",
    "                        \n",
    "               # keypoint_list = changeOrderkpl(keypoint_list)\n",
    "                person_dict = {'num_keypoints': int(np.sum(kps[:,2]==1)),'area': bbox[2]*bbox[3],'iscrowd': 0, 'keypoints': keypoint_list, 'image_id': img_id,'bbox': bbox.tolist(), 'category_id': 1, 'id': aid  }\n",
    "                coco['annotations'].append(person_dict)\n",
    "                aid += 1\n",
    "\n",
    "category = {\n",
    "    \"supercategory\": \"person\",\n",
    "    \"id\": 1,  # to be same as COCO, not using 0\n",
    "    \"name\": \"person\",\n",
    "    \"skeleton\": [[0,1],\n",
    "        [1,2], \n",
    "        [2,6], \n",
    "        [7,12], \n",
    "        [12,11], \n",
    "        [11,10], \n",
    "        [5,4], \n",
    "        [4,3], \n",
    "        [3,6], \n",
    "        [7,13], \n",
    "        [13,14], \n",
    "        [14,15], \n",
    "        [6,7], \n",
    "        [7,8], \n",
    "        [8,9]] ,\n",
    "    \"keypoints\": [\"r_ankle\", \"r_knee\",\"r_hip\", \n",
    "                    \"l_hip\", \"l_knee\", \"l_ankle\",\n",
    "                  \"pelvis\", \"throax\",\n",
    "                  \"upper_neck\", \"head_top\",\n",
    "                  \"r_wrist\", \"r_elbow\", \"r_shoulder\",\n",
    "                  \"l_shoulder\", \"l_elbow\", \"l_wrist\"]}\n",
    "\n",
    "coco['categories'] = [category]\n",
    "\n",
    "with open(save_path, 'w') as f:\n",
    "    json.dump(coco, f)"
   ]
  },
  {
   "cell_type": "code",
   "execution_count": 46,
   "metadata": {
    "scrolled": true
   },
   "outputs": [
    {
     "name": "stdout",
     "output_type": "stream",
     "text": [
      "1751\n"
     ]
    }
   ],
   "source": [
    "json_file = open('val.json') \n",
    "data = json.load(json_file)\n",
    "print(len(data['images']))"
   ]
  },
  {
   "cell_type": "code",
   "execution_count": null,
   "metadata": {},
   "outputs": [],
   "source": [
    "### для существующего разбиения"
   ]
  },
  {
   "cell_type": "code",
   "execution_count": 47,
   "metadata": {},
   "outputs": [],
   "source": [
    "fopen = open('train_test_split.txt')"
   ]
  },
  {
   "cell_type": "code",
   "execution_count": 48,
   "metadata": {},
   "outputs": [],
   "source": [
    "lines = fopen.readlines()"
   ]
  },
  {
   "cell_type": "code",
   "execution_count": 49,
   "metadata": {},
   "outputs": [],
   "source": [
    "line = list(map(int, lines[0][1:-2].split(', ')))"
   ]
  },
  {
   "cell_type": "code",
   "execution_count": 35,
   "metadata": {},
   "outputs": [],
   "source": [
    "def check_empty(list,name):\n",
    "    \n",
    "    try:\n",
    "        list[name]\n",
    "    except ValueError:\n",
    "        return True\n",
    "\n",
    "    if len(list[name]) > 0:\n",
    "        return False\n",
    "    else:\n",
    "        return True\n",
    "\n",
    "\n",
    "db_type = 'train' # train, test\n",
    "annot_file = loadmat('mpii_human_pose_v1_u12_1')['RELEASE']\n",
    "save_path = 'train.json'\n",
    "\n",
    "joint_num = 16\n",
    "img_num = len(annot_file['annolist'][0][0][0])\n",
    "\n",
    "aid = 0\n",
    "counter = -1\n",
    "coco = {'images': [], 'categories': [], 'annotations': []}\n",
    "for img_id in range(img_num):\n",
    "   # print(img_id)\n",
    "    \n",
    "    if (annot_file['img_train'][0][0][0][img_id] == 0):\n",
    "        continue\n",
    "    \n",
    "    \n",
    "    \n",
    "    if ((db_type == 'train' and annot_file['img_train'][0][0][0][img_id] == 1) ) and \\\n",
    "        check_empty(annot_file['annolist'][0][0][0][img_id],'annorect') == False: #any person is annotated\n",
    "        counter+=1\n",
    "        if (line[counter] == 0): # if val(0)\n",
    "            continue\n",
    "    \n",
    "        filename = 'images/' + str(annot_file['annolist'][0][0][0][img_id]['image'][0][0][0][0]) #filename\n",
    "        img = Image.open(filename)\n",
    "        w,h = img.size\n",
    "        img_dict = {'id': img_id, 'file_name': filename, 'width': w, 'height': h}\n",
    "        coco['images'].append(img_dict)\n",
    "\n",
    "        if db_type == 'test':\n",
    "            continue\n",
    "        \n",
    "        person_num = len(annot_file['annolist'][0][0][0][img_id]['annorect'][0]) #person_num\n",
    "        joint_annotated = np.zeros((person_num,joint_num))\n",
    "        for pid in range(person_num):\n",
    "            \n",
    "            if check_empty(annot_file['annolist'][0][0][0][img_id]['annorect'][0][pid],'annopoints') == False: #kps is annotated\n",
    "                \n",
    "                bbox = np.zeros((4)) # xmin, ymin, w, h\n",
    "                kps = np.zeros((joint_num,3)) # xcoord, ycoord, vis\n",
    "\n",
    "                #kps\n",
    "                annot_joint_num = len(annot_file['annolist'][0][0][0][img_id]['annorect'][0][pid]['annopoints']['point'][0][0][0])\n",
    "                for jid in range(annot_joint_num):\n",
    "                    annot_jid = annot_file['annolist'][0][0][0][img_id]['annorect'][0][pid]['annopoints']['point'][0][0][0][jid]['id'][0][0]\n",
    "                    kps[annot_jid][0] = annot_file['annolist'][0][0][0][img_id]['annorect'][0][pid]['annopoints']['point'][0][0][0][jid]['x'][0][0]\n",
    "                    kps[annot_jid][1] = annot_file['annolist'][0][0][0][img_id]['annorect'][0][pid]['annopoints']['point'][0][0][0][jid]['y'][0][0]\n",
    "                    kps[annot_jid][2] = 2\n",
    "                \n",
    "                \n",
    "                \n",
    "               \n",
    "                keypoint_list = kps.reshape(-1).tolist()\n",
    "                xmax = 0\n",
    "                ymax = 0\n",
    "                xmin = 10000\n",
    "                ymin = 10000\n",
    "                for i in range(16):\n",
    "                    if (keypoint_list[i*3] < 0 or keypoint_list[i*3+1] < 0 or keypoint_list[i*3] > w or keypoint_list[i*3+1] > h):\n",
    "                        keypoint_list[i*3]=0\n",
    "                        keypoint_list[i*3+1]=0\n",
    "                        keypoint_list[i*3+2]=0\n",
    "                    else:\n",
    "                        if (keypoint_list[i*3] > xmax):\n",
    "                            xmax = keypoint_list[i*3] \n",
    "                        if (keypoint_list[i*3] < xmin):\n",
    "                            xmin = keypoint_list[i*3] \n",
    "                        if (keypoint_list[i*3+1] > ymax):\n",
    "                            ymax = keypoint_list[i*3+1] \n",
    "                        if (keypoint_list[i*3+1] < ymin):\n",
    "                            ymin = keypoint_list[i*3+1] \n",
    "                width = xmax - xmin\n",
    "                height = ymax - ymin\n",
    "                # corrupted bounding box\n",
    "                if width <= 0 or height <= 0:\n",
    "                    continue\n",
    "                # 20% extend    \n",
    "                else:\n",
    "                    bbox[0] = max(0, xmin)\n",
    "                    bbox[1] = max(0, ymin)\n",
    "                    bbox[2] = width\n",
    "                    bbox[3] = height\n",
    "  \n",
    "                        \n",
    "               # keypoint_list = changeOrderkpl(keypoint_list)\n",
    "                person_dict = {'num_keypoints': int(np.sum(kps[:,2]==1)),'area': bbox[2]*bbox[3],'iscrowd': 0, 'keypoints': keypoint_list, 'image_id': img_id,'bbox': bbox.tolist(), 'category_id': 1, 'id': aid  }\n",
    "                coco['annotations'].append(person_dict)\n",
    "                aid += 1\n",
    "\n",
    "category = {\n",
    "    \"supercategory\": \"person\",\n",
    "    \"id\": 1,  # to be same as COCO, not using 0\n",
    "    \"name\": \"person\",\n",
    "    \"skeleton\": [[0,1],\n",
    "        [1,2], \n",
    "        [2,6], \n",
    "        [7,12], \n",
    "        [12,11], \n",
    "        [11,10], \n",
    "        [5,4], \n",
    "        [4,3], \n",
    "        [3,6], \n",
    "        [7,13], \n",
    "        [13,14], \n",
    "        [14,15], \n",
    "        [6,7], \n",
    "        [7,8], \n",
    "        [8,9]] ,\n",
    "    \"keypoints\": [\"r_ankle\", \"r_knee\",\"r_hip\", \n",
    "                    \"l_hip\", \"l_knee\", \"l_ankle\",\n",
    "                  \"pelvis\", \"throax\",\n",
    "                  \"upper_neck\", \"head_top\",\n",
    "                  \"r_wrist\", \"r_elbow\", \"r_shoulder\",\n",
    "                  \"l_shoulder\", \"l_elbow\", \"l_wrist\"]}\n",
    "\n",
    "coco['categories'] = [category]\n",
    "\n",
    "with open(save_path, 'w') as f:\n",
    "    json.dump(coco, f)"
   ]
  },
  {
   "cell_type": "code",
   "execution_count": null,
   "metadata": {},
   "outputs": [],
   "source": []
  },
  {
   "cell_type": "code",
   "execution_count": null,
   "metadata": {},
   "outputs": [],
   "source": []
  },
  {
   "cell_type": "code",
   "execution_count": null,
   "metadata": {},
   "outputs": [],
   "source": []
  },
  {
   "cell_type": "code",
   "execution_count": null,
   "metadata": {},
   "outputs": [],
   "source": [
    "до чистки:\n",
    "\n",
    "{0: 0,\n",
    " 1: 1,\n",
    " 2: 1,\n",
    " 3: 1,\n",
    " 4: 0,\n",
    " 5: 8,\n",
    " 6: 29,\n",
    " 7: 47,\n",
    " 8: 61,\n",
    " 9: 520,\n",
    " 10: 198,\n",
    " 11: 142,\n",
    " 12: 3578,\n",
    " 13: 384,\n",
    " 14: 3106,\n",
    " 15: 888,\n",
    " 16: 19919}\n",
    "\n",
    "после:\n",
    "\n",
    "{0: 0,\n",
    " 1: 1,\n",
    " 2: 1,\n",
    " 3: 1,\n",
    " 4: 0,\n",
    " 5: 8,\n",
    " 6: 31,\n",
    " 7: 50,\n",
    " 8: 84,\n",
    " 9: 499,\n",
    " 10: 198,\n",
    " 11: 231,\n",
    " 12: 3503,\n",
    " 13: 457,\n",
    " 14: 3054,\n",
    " 15: 1053,\n",
    " 16: 19712}"
   ]
  }
 ],
 "metadata": {
  "kernelspec": {
   "display_name": "Python 3",
   "language": "python",
   "name": "python3"
  },
  "language_info": {
   "codemirror_mode": {
    "name": "ipython",
    "version": 3
   },
   "file_extension": ".py",
   "mimetype": "text/x-python",
   "name": "python",
   "nbconvert_exporter": "python",
   "pygments_lexer": "ipython3",
   "version": "3.6.10"
  }
 },
 "nbformat": 4,
 "nbformat_minor": 2
}
