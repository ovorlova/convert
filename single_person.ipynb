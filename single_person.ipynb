{
 "cells": [
  {
   "cell_type": "code",
   "execution_count": 1,
   "metadata": {},
   "outputs": [],
   "source": [
    "fopen = open('train_test_split.txt')\n",
    "lines = fopen.readlines()\n",
    "line = list(map(int, lines[0][1:-2].split(', ')))"
   ]
  },
  {
   "cell_type": "code",
   "execution_count": 2,
   "metadata": {},
   "outputs": [],
   "source": [
    "from scipy.io import loadmat, savemat\n",
    "from PIL import Image\n",
    "import os\n",
    "import os.path as osp\n",
    "import numpy as np\n",
    "import json"
   ]
  },
  {
   "cell_type": "code",
   "execution_count": 3,
   "metadata": {},
   "outputs": [],
   "source": [
    "annot_file = loadmat('mpii_human_pose_v1_u12_1')['RELEASE']\n",
    "single_person = []\n",
    "for imgidx in range(len(annot_file['single_person'][0][0])):\n",
    "    single_person.append([])\n",
    "    if len(annot_file['single_person'][0][0][imgidx][0]) > 0:\n",
    "        if len(annot_file['single_person'][0][0][imgidx][0][0]) > 0:\n",
    "            for num in range(len(annot_file['single_person'][0][0][imgidx][0])):  \n",
    "                single_person[imgidx].append(annot_file['single_person'][0][0][imgidx][0][num][0])"
   ]
  },
  {
   "cell_type": "code",
   "execution_count": 3,
   "metadata": {},
   "outputs": [],
   "source": [
    "fopen = open('train_test_split.txt')\n",
    "lines = fopen.readlines()\n",
    "line = list(map(int, lines[0][1:-2].split(', ')))"
   ]
  },
  {
   "cell_type": "code",
   "execution_count": 4,
   "metadata": {},
   "outputs": [],
   "source": [
    "json_file = open('mpii_human_pose_v1_u12_1.json', 'r') \n",
    "data = json.load(json_file)['RELEASE'][0]"
   ]
  },
  {
   "cell_type": "code",
   "execution_count": 9,
   "metadata": {},
   "outputs": [],
   "source": [
    "def check_empty(list,name):\n",
    "    \n",
    "    try:\n",
    "        list[name]\n",
    "    except ValueError:\n",
    "        return True\n",
    "\n",
    "    if len(list[name]) > 0:\n",
    "        return False\n",
    "    else:\n",
    "        return True\n",
    "\n",
    "\n",
    "db_type = 'train' # train, test\n",
    "annot_file = loadmat('mpii_human_pose_v1_u12_1')['RELEASE']\n",
    "save_path = 'val.json'\n",
    "\n",
    "joint_num = 16\n",
    "img_num = len(annot_file['annolist'][0][0][0])\n",
    "\n",
    "aid = 0\n",
    "counter = -1\n",
    "lst_val = []\n",
    "inds = {}\n",
    "annorect = {}\n",
    "lst_single_person = []\n",
    "coco = {'images': [], 'categories': [], 'annotations': []}\n",
    "for img_id in range(img_num):\n",
    "   # print(img_id)\n",
    "    \n",
    "    if (annot_file['img_train'][0][0][0][img_id] == 0):\n",
    "        continue\n",
    "    \n",
    "    \n",
    "    \n",
    "    if ((db_type == 'train' and annot_file['img_train'][0][0][0][img_id] == 1) ) and \\\n",
    "        check_empty(annot_file['annolist'][0][0][0][img_id],'annorect') == False: #any person is annotated\n",
    "        counter+=1\n",
    "        if (line[counter] == 1): # if val(0)\n",
    "            continue\n",
    "        filename = 'images/' + str(annot_file['annolist'][0][0][0][img_id]['image'][0][0][0][0]) #filename\n",
    "        img = Image.open(filename)\n",
    "        w,h = img.size\n",
    "        single = []\n",
    "        for i in single_person[img_id]:\n",
    "            person = data['annolist'][img_id]['annorect'][i-1]\n",
    "            if 'annopoints' in person:\n",
    "                lst_points = []\n",
    "                for j in range(len(person['annopoints'][0]['point'])):\n",
    "                    point = person['annopoints'][0]['point'][j]\n",
    "                    if point['x'][0] < 0 or point['y'][0] < 0 or point['x'][0] > w or point['y'][0] > h:\n",
    "                        continue\n",
    "                    lst_points.append(point)\n",
    "                person['annopoints'][0]['point'] = lst_points\n",
    "                single.append(person)\n",
    "        lst_single_person.append({'image':data['annolist'][img_id]['image'], 'annorect' : single}) "
   ]
  },
  {
   "cell_type": "code",
   "execution_count": 10,
   "metadata": {},
   "outputs": [
    {
     "data": {
      "text/plain": [
       "1751"
      ]
     },
     "execution_count": 10,
     "metadata": {},
     "output_type": "execute_result"
    }
   ],
   "source": [
    "len(lst_single_person)"
   ]
  },
  {
   "cell_type": "raw",
   "metadata": {},
   "source": []
  },
  {
   "cell_type": "code",
   "execution_count": null,
   "metadata": {},
   "outputs": [],
   "source": []
  },
  {
   "cell_type": "code",
   "execution_count": 11,
   "metadata": {},
   "outputs": [],
   "source": [
    "json.dump({'annolist': lst_single_person}, open('val_single.json', 'w'))"
   ]
  },
  {
   "cell_type": "code",
   "execution_count": null,
   "metadata": {},
   "outputs": [],
   "source": []
  },
  {
   "cell_type": "code",
   "execution_count": 145,
   "metadata": {},
   "outputs": [],
   "source": [
    "# not single"
   ]
  },
  {
   "cell_type": "code",
   "execution_count": 12,
   "metadata": {},
   "outputs": [],
   "source": [
    "fopen = open('train_test_split.txt')\n",
    "lines = fopen.readlines()\n",
    "line = list(map(int, lines[0][1:-2].split(', ')))"
   ]
  },
  {
   "cell_type": "code",
   "execution_count": 16,
   "metadata": {},
   "outputs": [],
   "source": [
    "def check_empty(list,name):\n",
    "    \n",
    "    try:\n",
    "        list[name]\n",
    "    except ValueError:\n",
    "        return True\n",
    "\n",
    "    if len(list[name]) > 0:\n",
    "        return False\n",
    "    else:\n",
    "        return True\n",
    "\n",
    "\n",
    "db_type = 'train' # train, test\n",
    "annot_file = loadmat('mpii_human_pose_v1_u12_1')['RELEASE']\n",
    "save_path = 'val.json'\n",
    "\n",
    "joint_num = 16\n",
    "img_num = len(annot_file['annolist'][0][0][0])\n",
    "\n",
    "aid = 0\n",
    "counter = -1\n",
    "lst_val = []\n",
    "inds = {}\n",
    "annorect = {}\n",
    "lst_person = []\n",
    "coco = {'images': [], 'categories': [], 'annotations': []}\n",
    "for img_id in range(img_num):\n",
    "   # print(img_id)\n",
    "    \n",
    "    if (annot_file['img_train'][0][0][0][img_id] == 0):\n",
    "        continue\n",
    "    \n",
    "    \n",
    "    \n",
    "    if ((db_type == 'train' and annot_file['img_train'][0][0][0][img_id] == 1) ) and \\\n",
    "        check_empty(annot_file['annolist'][0][0][0][img_id],'annorect') == False: #any person is annotated\n",
    "        counter+=1\n",
    "        if (line[counter] == 1): # if val(0)\n",
    "            continue\n",
    "        filename = 'images/' + str(annot_file['annolist'][0][0][0][img_id]['image'][0][0][0][0]) #filename\n",
    "        img = Image.open(filename)\n",
    "        w,h = img.size\n",
    "        persons = []\n",
    "        for i in range(len(data['annolist'][img_id]['annorect'])):\n",
    "            person = data['annolist'][img_id]['annorect'][i]\n",
    "            if 'annopoints' in person and len(person['annopoints']) > 0:\n",
    "                lst_points = []\n",
    "                for j in range(len(person['annopoints'][0]['point'])):\n",
    "                    point = person['annopoints'][0]['point'][j]\n",
    "                    if point['x'][0] < 0 or point['y'][0] < 0 or point['x'][0] > w or point['y'][0] > h:\n",
    "                        continue\n",
    "                    lst_points.append(point)\n",
    "                person['annopoints'][0]['point'] = lst_points\n",
    "                persons.append(person)\n",
    "        lst_person.append({'image':data['annolist'][img_id]['image'], 'annorect' : persons}) "
   ]
  },
  {
   "cell_type": "code",
   "execution_count": 17,
   "metadata": {},
   "outputs": [
    {
     "data": {
      "text/plain": [
       "1751"
      ]
     },
     "execution_count": 17,
     "metadata": {},
     "output_type": "execute_result"
    }
   ],
   "source": [
    "len(lst_person)"
   ]
  },
  {
   "cell_type": "code",
   "execution_count": 18,
   "metadata": {},
   "outputs": [],
   "source": [
    "json.dump({'annolist': lst_person}, open('val_not_single.json', 'w'))"
   ]
  },
  {
   "cell_type": "code",
   "execution_count": null,
   "metadata": {},
   "outputs": [],
   "source": []
  }
 ],
 "metadata": {
  "kernelspec": {
   "display_name": "Python 3",
   "language": "python",
   "name": "python3"
  },
  "language_info": {
   "codemirror_mode": {
    "name": "ipython",
    "version": 3
   },
   "file_extension": ".py",
   "mimetype": "text/x-python",
   "name": "python",
   "nbconvert_exporter": "python",
   "pygments_lexer": "ipython3",
   "version": "3.6.10"
  }
 },
 "nbformat": 4,
 "nbformat_minor": 4
}
