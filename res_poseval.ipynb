{
 "cells": [
  {
   "cell_type": "code",
   "execution_count": 1,
   "metadata": {},
   "outputs": [],
   "source": [
    "import json\n",
    "inds = json.load(open('inds.json'))\n",
    "data = json.load(open('results.json'))"
   ]
  },
  {
   "cell_type": "code",
   "execution_count": 2,
   "metadata": {},
   "outputs": [],
   "source": [
    "dct_image_id = {}\n",
    "for i in range(len(data)):\n",
    "    img_id = str(data[i]['image_id'])\n",
    "    if inds[img_id] not in dct_image_id:\n",
    "        dct_image_id[inds[img_id]] = []\n",
    "    lst = []\n",
    "    center_score = data[i]['score']\n",
    "    for key in range(16):\n",
    "        _id = key\n",
    "        x = data[i]['keypoints'][key*3]\n",
    "        y = data[i]['keypoints'][key*3+1]\n",
    "        score = data[i]['keypoints'][key*3+2]\n",
    "        lst.append({'id': [_id], 'x': [x], 'y': [y], 'score' : [score]})\n",
    "    (dct_image_id[inds[img_id]]).append({'score': [center_score], 'annopoints' : [{\"point\": lst}]})"
   ]
  },
  {
   "cell_type": "code",
   "execution_count": 3,
   "metadata": {},
   "outputs": [
    {
     "data": {
      "text/plain": [
       "525100"
      ]
     },
     "execution_count": 3,
     "metadata": {},
     "output_type": "execute_result"
    }
   ],
   "source": [
    "len(data)"
   ]
  },
  {
   "cell_type": "code",
   "execution_count": 4,
   "metadata": {},
   "outputs": [],
   "source": [
    "final_lst = []\n",
    "for key in dct_image_id:\n",
    "    final_lst.append({'image' : [{'name' : key}], 'annorect' : dct_image_id[key]})"
   ]
  },
  {
   "cell_type": "code",
   "execution_count": 5,
   "metadata": {},
   "outputs": [],
   "source": [
    "final_dct = {'annolist' : final_lst}"
   ]
  },
  {
   "cell_type": "code",
   "execution_count": 6,
   "metadata": {},
   "outputs": [],
   "source": [
    "with open('new_results.json', 'w') as f:\n",
    "    json.dump(final_dct, f)"
   ]
  }
 ],
 "metadata": {
  "kernelspec": {
   "display_name": "Python 3",
   "language": "python",
   "name": "python3"
  },
  "language_info": {
   "codemirror_mode": {
    "name": "ipython",
    "version": 3
   },
   "file_extension": ".py",
   "mimetype": "text/x-python",
   "name": "python",
   "nbconvert_exporter": "python",
   "pygments_lexer": "ipython3",
   "version": "3.6.10"
  }
 },
 "nbformat": 4,
 "nbformat_minor": 4
}
